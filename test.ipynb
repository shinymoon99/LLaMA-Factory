{
 "cells": [
  {
   "cell_type": "code",
   "execution_count": 8,
   "metadata": {},
   "outputs": [
    {
     "name": "stdout",
     "output_type": "stream",
     "text": [
      "['event1make and event2musicals\" have no causal relationship', 'event1make and event2helped have no causal relationship', 'event1make and event2swimming have no causal relationship', 'event1make and event2popular have no causal relationship', 'event1musicals\" and event2helped have no causal relationship', 'event1musicals\" and event2swimming have no causal relationship', 'event1musicals\" cause event2popular', 'event1swam and event2dies have no causal relationship', 'event1swam and event2stardom have no causal relationship', 'event1helped and event2swimming have no causal relationship', 'event1helped and event2popular have no causal relationship', 'event1swimming and event2popular have no causal relationship', 'event1dies and event2stardom have no causal relationship', 'event1due to and event2achieved have no causal relationship', 'event1due to and event2success have no causal relationship', 'event1due to and event2snapped have no causal relationship', 'event1died and event2It have no causal relationship', 'event1died and event2record - setting have no causal relationship', 'event1died and event2confirmed have no causal relationship', 'event1died and event2sleep have no causal relationship', 'event1died and event2sleep have no causal relationship', 'event1It and event2record - setting have no causal relationship', 'event1It and event2confirmed have no causal relationship', 'event1It and event2sleep have no causal relationship', 'event1record - setting and event2confirmed have no causal relationship', 'event1record - setting and event2sleep have no causal relationship', 'event1achieved and event2success have no causal relationship', 'event1achieved and event2snapped have no causal relationship', 'event1success caused by event2snapped', 'event1confirmed and event2sleep have no causal relationship', 'event1continued and event2World War II have no causal relationship', 'event1continued and event2became have no causal relationship', 'event1continued and event2popularity have no causal relationship', 'event1turned and event2dies have no causal relationship', 'event1died and event2according have no causal relationship', 'event1died and event2sleep have no causal relationship', 'event1turned and event2musicals have no causal relationship', 'event1turned and event2swimming have no causal relationship', 'event1turned caused by event2starred', 'event1turned and event2died have no causal relationship', 'event1musicals and event2swimming have no causal relationship', 'event1musicals and event2starred have no causal relationship', 'event1musicals and event2died have no causal relationship', 'event1World War II and event2became have no causal relationship', 'event1World War II and event2popularity have no causal relationship', 'event1swimming and event2starred have no causal relationship', 'event1swimming and event2died have no causal relationship', 'event1became cause event2popularity', 'event1starred and event2died have no causal relationship', 'event1according and event2sleep have no causal relationship', 'event1led to and event2career have no causal relationship', 'event1led to and event2died have no causal relationship', 'event1led to and event2experiences have no causal relationship', 'event1led to and event2musicals\" have no causal relationship', 'event1led to and event2designed have no causal relationship', 'event1led to and event2swimming have no causal relationship', 'event1led to and event2said have no causal relationship', 'event1career and event2died have no causal relationship', 'event1career caused by event2experiences', 'event1career and event2musicals\" have no causal relationship', 'event1career and event2designed have no causal relationship', 'event1career and event2swimming have no causal relationship', 'event1career and event2said have no causal relationship', 'event1due to and event2died have no causal relationship', 'event1due to and event2said have no causal relationship', 'event1due to and event2sleep have no causal relationship', 'event1due to and event2health have no causal relationship', 'event1died and event2experiences have no causal relationship', 'event1died and event2musicals\" have no causal relationship', 'event1died and event2designed have no causal relationship', 'event1died and event2swimming have no causal relationship', 'event1died and event2said have no causal relationship', 'event1experiences and event2musicals\" have no causal relationship', 'event1experiences and event2designed have no causal relationship', 'event1experiences and event2swimming have no causal relationship', 'event1experiences and event2said have no causal relationship', 'event1musicals\" and event2designed have no causal relationship', 'event1musicals\" and event2swimming have no causal relationship', 'event1musicals\" and event2said have no causal relationship', 'event1designed and event2swimming have no causal relationship', 'event1designed and event2said have no causal relationship', 'event1died and event2said have no causal relationship', 'event1died and event2sleep have no causal relationship', 'event1died caused by event2health', 'event1swimming and event2said have no causal relationship', 'event1said and event2sleep have no causal relationship', 'event1said and event2health have no causal relationship', 'event1sleep and event2health have no causal relationship', 'event1launched and event2musicals\" have no causal relationship', 'event1Dead and event2Dies have no causal relationship', 'event1delighted and event2World War II have no causal relationship', 'event1delighted caused by event2warm', 'event1delighted caused by event2breezy', 'event1delighted caused by event2frankness', 'event1delighted caused by event2humor', 'event1death cause event2circulated', 'event1death and event2news have no causal relationship', 'event1death and event2spread have no causal relationship', 'event1circulated and event2news have no causal relationship', 'event1circulated and event2spread have no causal relationship']\n"
     ]
    }
   ],
   "source": [
    "from utils.util import augment_event_label\n",
    "def augment_label(datas:dict)->None:\n",
    "    for d in datas:\n",
    "        final_output=augment_event_label(d[\"input\"],d[\"output\"])\n",
    "        d[\"output\"]=final_output\n",
    "import json   \n",
    "with open(\"./data/ECI.json\",\"r\",encoding=\"utf-8\") as f:\n",
    "    datas = json.load(f)\n",
    "datas = datas[:100]\n",
    "augment_label(datas)\n",
    "print([d[\"output\"] for d in datas])"
   ]
  },
  {
   "cell_type": "code",
   "execution_count": 1,
   "metadata": {},
   "outputs": [
    {
     "name": "stdout",
     "output_type": "stream",
     "text": [
      "['event1 make  and event2 musicals\"  have no causal relationship', 'event1 make  and event2 helped  have no causal relationship', 'event1 make  and event2 swimming  have no causal relationship', 'event1 make  and event2 popular  have no causal relationship', 'event1 musicals\"  and event2 helped  have no causal relationship', 'event1 musicals\"  and event2 swimming  have no causal relationship', 'event1 musicals\"  cause event2 popular ', 'event1 swam  and event2 dies  have no causal relationship', 'event1 swam  and event2 stardom  have no causal relationship', 'event1 helped  and event2 swimming  have no causal relationship', 'event1 helped  and event2 popular  have no causal relationship', 'event1 swimming  and event2 popular  have no causal relationship', 'event1 dies  and event2 stardom  have no causal relationship', 'event1 due to  and event2 achieved  have no causal relationship', 'event1 due to  and event2 success  have no causal relationship', 'event1 due to  and event2 snapped  have no causal relationship', 'event1 died  and event2 It  have no causal relationship', 'event1 died  and event2 record - setting  have no causal relationship', 'event1 died  and event2 confirmed  have no causal relationship', 'event1 died  and event2 sleep  have no causal relationship', 'event1 died  and event2 sleep  have no causal relationship', 'event1 It  and event2 record - setting  have no causal relationship', 'event1 It  and event2 confirmed  have no causal relationship', 'event1 It  and event2 sleep  have no causal relationship', 'event1 record - setting  and event2 confirmed  have no causal relationship', 'event1 record - setting  and event2 sleep  have no causal relationship', 'event1 achieved  and event2 success  have no causal relationship', 'event1 achieved  and event2 snapped  have no causal relationship', 'event1 success  caused by event2 snapped ', 'event1 confirmed  and event2 sleep  have no causal relationship', 'event1 continued  and event2 World War II  have no causal relationship', 'event1 continued  and event2 became  have no causal relationship', 'event1 continued  and event2 popularity  have no causal relationship', 'event1 turned  and event2 dies  have no causal relationship', 'event1 died  and event2 according  have no causal relationship', 'event1 died  and event2 sleep  have no causal relationship', 'event1 turned  and event2 musicals  have no causal relationship', 'event1 turned  and event2 swimming  have no causal relationship', 'event1 turned  caused by event2 starred ', 'event1 turned  and event2 died  have no causal relationship', 'event1 musicals  and event2 swimming  have no causal relationship', 'event1 musicals  and event2 starred  have no causal relationship', 'event1 musicals  and event2 died  have no causal relationship', 'event1 World War II  and event2 became  have no causal relationship', 'event1 World War II  and event2 popularity  have no causal relationship', 'event1 swimming  and event2 starred  have no causal relationship', 'event1 swimming  and event2 died  have no causal relationship', 'event1 became  cause event2 popularity ', 'event1 starred  and event2 died  have no causal relationship', 'event1 according  and event2 sleep  have no causal relationship', 'event1 led to  and event2 career  have no causal relationship', 'event1 led to  and event2 died  have no causal relationship', 'event1 led to  and event2 experiences  have no causal relationship', 'event1 led to  and event2 musicals\"  have no causal relationship', 'event1 led to  and event2 designed  have no causal relationship', 'event1 led to  and event2 swimming  have no causal relationship', 'event1 led to  and event2 said  have no causal relationship', 'event1 career  and event2 died  have no causal relationship', 'event1 career  caused by event2 experiences ', 'event1 career  and event2 musicals\"  have no causal relationship', 'event1 career  and event2 designed  have no causal relationship', 'event1 career  and event2 swimming  have no causal relationship', 'event1 career  and event2 said  have no causal relationship', 'event1 due to  and event2 died  have no causal relationship', 'event1 due to  and event2 said  have no causal relationship', 'event1 due to  and event2 sleep  have no causal relationship', 'event1 due to  and event2 health  have no causal relationship', 'event1 died  and event2 experiences  have no causal relationship', 'event1 died  and event2 musicals\"  have no causal relationship', 'event1 died  and event2 designed  have no causal relationship', 'event1 died  and event2 swimming  have no causal relationship', 'event1 died  and event2 said  have no causal relationship', 'event1 experiences  and event2 musicals\"  have no causal relationship', 'event1 experiences  and event2 designed  have no causal relationship', 'event1 experiences  and event2 swimming  have no causal relationship', 'event1 experiences  and event2 said  have no causal relationship', 'event1 musicals\"  and event2 designed  have no causal relationship', 'event1 musicals\"  and event2 swimming  have no causal relationship', 'event1 musicals\"  and event2 said  have no causal relationship', 'event1 designed  and event2 swimming  have no causal relationship', 'event1 designed  and event2 said  have no causal relationship', 'event1 died  and event2 said  have no causal relationship', 'event1 died  and event2 sleep  have no causal relationship', 'event1 died  caused by event2 health ', 'event1 swimming  and event2 said  have no causal relationship', 'event1 said  and event2 sleep  have no causal relationship', 'event1 said  and event2 health  have no causal relationship', 'event1 sleep  and event2 health  have no causal relationship', 'event1 launched  and event2 musicals\"  have no causal relationship', 'event1 Dead  and event2 Dies  have no causal relationship', 'event1 delighted  and event2 World War II  have no causal relationship', 'event1 delighted  caused by event2 warm ', 'event1 delighted  caused by event2 breezy ', 'event1 delighted  caused by event2 frankness ', 'event1 delighted  caused by event2 humor ', 'event1 death  cause event2 circulated ', 'event1 death  and event2 news  have no causal relationship', 'event1 death  and event2 spread  have no causal relationship', 'event1 circulated  and event2 news  have no causal relationship', 'event1 circulated  and event2 spread  have no causal relationship']\n"
     ]
    }
   ],
   "source": [
    "import requests\n",
    "import json\n",
    "#{\"id\":\"chatcmpl-6vbyHZDboUPHcy5jWDtv0ToyiTrmQ\",\"object\":\"chat.completion\",\"created\":1679188677,\"model\":\"gpt-3.5-turbo-0301\",\"usage\":{\"prompt_tokens\":18,\"completion_tokens\":245,\"total_tokens\":263,\"pre_token_count\":4096,\"pre_total\":41,\"adjust_total\":38,\"final_total\":3},\"choices\":[{\"message\":{\"role\":\"assistant\",\"content\":\"\\n\\n我为您准备了一个笑话，希望您喜欢：\\n\\n有一天，一只羊和一只鸭子一起去逛街，走着走着突然发现迷路了。羊想要找人问路，可鸭子说：“别找人啊，他们只会说人话，不一定知道动物该怎么走。”羊听了还觉得有道理，于是就问：“那我们该怎么办？”鸭子举了举爪子说：“我们可以问一下天上的云彩，它们肯定知道路该怎么走。” 这时候，一位路人经过看到他们，问道：“你们两个在做什么呢？”羊和鸭子一脸尴尬，最终还是选择“礼貌性地”问路了。\"},\"finish_reason\":\"stop\",\"index\":0}]}%\n",
    "from utils.util import augment_event_label\n",
    "import time\n",
    "def augment_label(datas:dict)->None:\n",
    "    for d in datas:\n",
    "        final_output=augment_event_label(d[\"input\"],d[\"output\"])\n",
    "        d[\"output\"]=final_output\n",
    "def load_json_line_by_line(filename):\n",
    "    data = []\n",
    "    with open(filename, 'r',encoding=\"utf-8\") as file:\n",
    "        for line in file:\n",
    "            try:\n",
    "                json_data = json.loads(line.strip())\n",
    "                data.append(json_data)\n",
    "            except json.JSONDecodeError as e:\n",
    "                print(f\"Error decoding JSON: {e}\")\n",
    "    return data\n",
    "with open(\"./data/ECI.json\",\"r\",encoding=\"utf-8\") as f:\n",
    "    datas = json.load(f)\n",
    "datas = datas[:100]\n",
    "augment_label(datas)\n",
    "\n",
    "output = load_json_line_by_line(\"./output\\ECIhardprompt\\generated_predictions.jsonl\")\n",
    "inputs = [d[\"input\"] for d in datas]\n",
    "labels = [d[\"output\"] for d in datas]     \n",
    "output_strings = [o[\"predict\"] for o in output]\n",
    "print(labels)"
   ]
  }
 ],
 "metadata": {
  "kernelspec": {
   "display_name": "Python 3",
   "language": "python",
   "name": "python3"
  },
  "language_info": {
   "codemirror_mode": {
    "name": "ipython",
    "version": 3
   },
   "file_extension": ".py",
   "mimetype": "text/x-python",
   "name": "python",
   "nbconvert_exporter": "python",
   "pygments_lexer": "ipython3",
   "version": "3.11.5"
  }
 },
 "nbformat": 4,
 "nbformat_minor": 2
}
